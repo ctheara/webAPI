{
 "cells": [
  {
   "cell_type": "code",
   "execution_count": 1,
   "metadata": {},
   "outputs": [],
   "source": [
    "import requests\n",
    "import json\n"
   ]
  },
  {
   "cell_type": "code",
   "execution_count": 2,
   "metadata": {},
   "outputs": [
    {
     "name": "stdout",
     "output_type": "stream",
     "text": [
      "Enter movie name:superman\n"
     ]
    }
   ],
   "source": [
    "movie = input(\"Enter movie name:\")"
   ]
  },
  {
   "cell_type": "code",
   "execution_count": 13,
   "metadata": {},
   "outputs": [
    {
     "name": "stdout",
     "output_type": "stream",
     "text": [
      "http://www.omdbapi.com/?apikey=819a5bbb&s=superman\n"
     ]
    }
   ],
   "source": [
    "movieNameList = movie.split()     #split user text input\n",
    "movieLen = len(movieNameList)     #get length of user text input\n",
    "\n",
    "count = 0\n",
    "url = 'http://www.omdbapi.com/?apikey=819a5bbb&s='\n",
    "\n",
    "#get url to search for movie\n",
    "while (count < movieLen):\n",
    "    if (count == 0):\n",
    "        url = url+movieNameList[count]\n",
    "    else:\n",
    "        url = url+'+'+movieNameList[count]\n",
    "    count = count + 1\n",
    "\n",
    "print(url)\n",
    "\n",
    "# use requests.get to submit a 'get' request\n",
    "page = requests.get(url)\n",
    "\n",
    "#exit if get request fails\n",
    "if page.status_code != requests.codes.ok :\n",
    "    print(\"Request was not successful, status code:\", page.status_code)\n",
    "    print(\"Hit enter to continue...\")\n",
    "    input()\n",
    "    exit()\n",
    "    "
   ]
  },
  {
   "cell_type": "code",
   "execution_count": 5,
   "metadata": {},
   "outputs": [
    {
     "data": {
      "text/plain": [
       "{'Search': [{'Title': 'Batman v Superman: Dawn of Justice',\n",
       "   'Year': '2016',\n",
       "   'imdbID': 'tt2975590',\n",
       "   'Type': 'movie',\n",
       "   'Poster': 'https://m.media-amazon.com/images/M/MV5BYThjYzcyYzItNTVjNy00NDk0LTgwMWQtYjMwNmNlNWJhMzMyXkEyXkFqcGdeQXVyMTQxNzMzNDI@._V1_SX300.jpg'},\n",
       "  {'Title': 'Superman Returns',\n",
       "   'Year': '2006',\n",
       "   'imdbID': 'tt0348150',\n",
       "   'Type': 'movie',\n",
       "   'Poster': 'https://m.media-amazon.com/images/M/MV5BNzY2ZDQ2MTctYzlhOC00MWJhLTgxMmItMDgzNDQwMDdhOWI2XkEyXkFqcGdeQXVyNjc1NTYyMjg@._V1_SX300.jpg'},\n",
       "  {'Title': 'Superman',\n",
       "   'Year': '1978',\n",
       "   'imdbID': 'tt0078346',\n",
       "   'Type': 'movie',\n",
       "   'Poster': 'https://m.media-amazon.com/images/M/MV5BMzA0YWMwMTUtMTVhNC00NjRkLWE2ZTgtOWEzNjJhYzNiMTlkXkEyXkFqcGdeQXVyNjc1NTYyMjg@._V1_SX300.jpg'},\n",
       "  {'Title': 'Superman II',\n",
       "   'Year': '1980',\n",
       "   'imdbID': 'tt0081573',\n",
       "   'Type': 'movie',\n",
       "   'Poster': 'https://m.media-amazon.com/images/M/MV5BODk2NjgzNTEtYzZhZC00ZTBkLTllMGQtMmMxMzU1NDRkM2RlXkEyXkFqcGdeQXVyNjc1NTYyMjg@._V1_SX300.jpg'},\n",
       "  {'Title': 'Superman III',\n",
       "   'Year': '1983',\n",
       "   'imdbID': 'tt0086393',\n",
       "   'Type': 'movie',\n",
       "   'Poster': 'https://m.media-amazon.com/images/M/MV5BMzI3ZDllMTctNmI2Mi00OGQ4LTk2ZTQtYTJhMjA5ZGI2YmRkXkEyXkFqcGdeQXVyNjUwNzk3NDc@._V1_SX300.jpg'},\n",
       "  {'Title': 'Superman IV: The Quest for Peace',\n",
       "   'Year': '1987',\n",
       "   'imdbID': 'tt0094074',\n",
       "   'Type': 'movie',\n",
       "   'Poster': 'https://m.media-amazon.com/images/M/MV5BMmIwZWY1YTYtNDlhOS00NDRmLWI4MzItNjk2NDc1N2NhYzNlXkEyXkFqcGdeQXVyNTUyMzE4Mzg@._V1_SX300.jpg'},\n",
       "  {'Title': 'Superman & Lois',\n",
       "   'Year': '2021–',\n",
       "   'imdbID': 'tt11192306',\n",
       "   'Type': 'series',\n",
       "   'Poster': 'https://m.media-amazon.com/images/M/MV5BOGYyMmViMjgtZjViZi00NjkzLThjZGItMzZhYmZmOWZlMzdhXkEyXkFqcGdeQXVyMTkxNjUyNQ@@._V1_SX300.jpg'},\n",
       "  {'Title': 'Superman/Batman: Apocalypse',\n",
       "   'Year': '2010',\n",
       "   'imdbID': 'tt1673430',\n",
       "   'Type': 'movie',\n",
       "   'Poster': 'https://m.media-amazon.com/images/M/MV5BMjk3ODhmNjgtZjllOC00ZWZjLTkwYzQtNzc1Y2ZhMjY2ODE0XkEyXkFqcGdeQXVyNTAyODkwOQ@@._V1_SX300.jpg'},\n",
       "  {'Title': 'Lois & Clark: The New Adventures of Superman',\n",
       "   'Year': '1993–1997',\n",
       "   'imdbID': 'tt0106057',\n",
       "   'Type': 'series',\n",
       "   'Poster': 'https://m.media-amazon.com/images/M/MV5BZTU1ZGFjNzEtZWYzZC00ZmI0LTg2NmMtN2YyNTY4YzhlODIyXkEyXkFqcGdeQXVyMjExMjk0ODk@._V1_SX300.jpg'},\n",
       "  {'Title': 'Superman/Batman: Public Enemies',\n",
       "   'Year': '2009',\n",
       "   'imdbID': 'tt1398941',\n",
       "   'Type': 'movie',\n",
       "   'Poster': 'https://m.media-amazon.com/images/M/MV5BZDc5NTFiMzgtZWJiOS00N2M1LWJmOGYtZmNjMzFhMzcxZjRiXkEyXkFqcGdeQXVyNTAyODkwOQ@@._V1_SX300.jpg'}],\n",
       " 'totalResults': '279',\n",
       " 'Response': 'True'}"
      ]
     },
     "execution_count": 5,
     "metadata": {},
     "output_type": "execute_result"
    }
   ],
   "source": [
    "record = json.loads(page.content)\n",
    "record"
   ]
  },
  {
   "cell_type": "code",
   "execution_count": 10,
   "metadata": {},
   "outputs": [],
   "source": [
    "#get movie stat and print it\n",
    "def get_movie_stat(url):\n",
    "    # use requests.get to submit a 'get' request\n",
    "    page = requests.get(url)\n",
    "\n",
    "    if page.status_code != requests.codes.ok :\n",
    "        print(\"Request was not successful, status code:\", page.status_code)\n",
    "        print(\"Hit enter to continue...\")\n",
    "        input()\n",
    "        exit()\n",
    "\n",
    "    record = json.loads(page.content)    \n",
    "    \n",
    "    print('')\n",
    "    print('Movie Stat:')\n",
    "    print(record['Title'],'('+record['Year']+')')\n",
    "    print('Rated:',record['Rated'])\n",
    "    print('Release Date:',record['Released'])\n",
    "    print('Rating:')\n",
    "    for r in record['Ratings']:\n",
    "        print('\\t{:<25s} {:<10s}'.format(r['Source'], r['Value']))\n",
    "        \n",
    "        \n",
    "#check user input for integer\n",
    "def check_user_input(input):\n",
    "    try:\n",
    "        # Convert it into integer\n",
    "        val = int(input)\n",
    "        imbdID = record['Search'][int(moviePick)]['imdbID']\n",
    "        return imbdID\n",
    "    except ValueError:\n",
    "        print(\"No.. input is not a number. It's a string\")"
   ]
  },
  {
   "cell_type": "code",
   "execution_count": 11,
   "metadata": {},
   "outputs": [
    {
     "name": "stdout",
     "output_type": "stream",
     "text": [
      "1. Batman v Superman: Dawn of Justice(2016)\n",
      "2. Superman Returns(2006)\n",
      "3. Superman(1978)\n",
      "4. Superman II(1980)\n",
      "5. Superman III(1983)\n",
      "6. Superman IV: The Quest for Peace(1987)\n",
      "7. Superman & Lois(2021–)\n",
      "8. Superman/Batman: Apocalypse(2010)\n",
      "9. Lois & Clark: The New Adventures of Superman(1993–1997)\n",
      "10. Superman/Batman: Public Enemies(2009)\n",
      "Please select the number corresponding to the movie you want to look up4\n",
      "\n",
      "Movie Stat:\n",
      "Superman III (1983)\n",
      "Rated: PG\n",
      "Release Date: 17 Jun 1983\n",
      "Rating:\n",
      "\tInternet Movie Database   5.0/10    \n",
      "\tRotten Tomatoes           29%       \n",
      "\tMetacritic                44/100    \n"
     ]
    }
   ],
   "source": [
    "searchCount = len(record['Search'])\n",
    "if (searchCount != 1):\n",
    "    counter = 1\n",
    "    for i in record['Search']:\n",
    "        title = i['Title']\n",
    "        year = i['Year']\n",
    "\n",
    "        print (str(counter)+'.',title+'('+year+')')\n",
    "        counter += 1\n",
    "      \n",
    "    #get user input\n",
    "    moviePick = input(\"Please select the number corresponding to the movie you want to look up\")\n",
    "    imbdID = check_user_input(moviePick)\n",
    "    \n",
    "    #specific movie stat url\n",
    "    url = 'http://www.omdbapi.com/?apikey=819a5bbb&i='+imbdID\n",
    "    \n",
    "    #get stats\n",
    "    get_movie_stat(url)\n",
    "    \n",
    "else:\n",
    "    #specific movie stat url\n",
    "    url = 'http://www.omdbapi.com/?apikey=819a5bbb&i='+record['Search'][0]['imdbID']\n",
    "    \n",
    "    #get stats\n",
    "    get_movie_stat(url)\n",
    "\n"
   ]
  },
  {
   "cell_type": "code",
   "execution_count": null,
   "metadata": {},
   "outputs": [],
   "source": [
    "\n",
    "\n",
    "\n"
   ]
  },
  {
   "cell_type": "code",
   "execution_count": null,
   "metadata": {},
   "outputs": [],
   "source": [
    "\n"
   ]
  },
  {
   "cell_type": "code",
   "execution_count": null,
   "metadata": {},
   "outputs": [],
   "source": []
  }
 ],
 "metadata": {
  "kernelspec": {
   "display_name": "Python 3",
   "language": "python",
   "name": "python3"
  },
  "language_info": {
   "codemirror_mode": {
    "name": "ipython",
    "version": 3
   },
   "file_extension": ".py",
   "mimetype": "text/x-python",
   "name": "python",
   "nbconvert_exporter": "python",
   "pygments_lexer": "ipython3",
   "version": "3.7.6"
  }
 },
 "nbformat": 4,
 "nbformat_minor": 4
}
