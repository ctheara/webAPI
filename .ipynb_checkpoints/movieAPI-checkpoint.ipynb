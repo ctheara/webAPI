{
 "cells": [
  {
   "cell_type": "code",
   "execution_count": 1,
   "metadata": {},
   "outputs": [],
   "source": [
    "import requests\n",
    "import json"
   ]
  },
  {
   "cell_type": "code",
   "execution_count": 2,
   "metadata": {},
   "outputs": [
    {
     "name": "stdout",
     "output_type": "stream",
     "text": [
      "Enter movie name:batman\n"
     ]
    }
   ],
   "source": [
    "movie = input(\"Enter movie name:\")"
   ]
  },
  {
   "cell_type": "code",
   "execution_count": 3,
   "metadata": {},
   "outputs": [
    {
     "name": "stdout",
     "output_type": "stream",
     "text": [
      "http://www.omdbapi.com/?apikey=819a5bbb&s=batman\n"
     ]
    }
   ],
   "source": [
    "movieNameList = movie.split()     #split user text input\n",
    "movieLen = len(movieNameList)     #get length of user text input\n",
    "\n",
    "count = 0\n",
    "url = 'http://www.omdbapi.com/?apikey=819a5bbb&s='\n",
    "\n",
    "#get url to search for movie\n",
    "while (count < movieLen):\n",
    "    if (count == 0):\n",
    "        url = url+movieNameList[count]\n",
    "    else:\n",
    "        url = url+'+'+movieNameList[count]\n",
    "    count = count + 1\n",
    "\n",
    "print(url)\n",
    "\n",
    "# use requests.get to submit a 'get' request\n",
    "page = requests.get(url)\n",
    "\n",
    "#exit if get request fails\n",
    "if page.status_code != requests.codes.ok :\n",
    "    print(\"Request was not successful, status code:\", page.status_code)\n",
    "    print(\"Hit enter to continue...\")\n",
    "    input()\n",
    "    exit()\n",
    "    "
   ]
  },
  {
   "cell_type": "code",
   "execution_count": 4,
   "metadata": {},
   "outputs": [
    {
     "data": {
      "text/plain": [
       "{'Search': [{'Title': 'Batman Begins',\n",
       "   'Year': '2005',\n",
       "   'imdbID': 'tt0372784',\n",
       "   'Type': 'movie',\n",
       "   'Poster': 'https://m.media-amazon.com/images/M/MV5BOTY4YjI2N2MtYmFlMC00ZjcyLTg3YjEtMDQyM2ZjYzQ5YWFkXkEyXkFqcGdeQXVyMTQxNzMzNDI@._V1_SX300.jpg'},\n",
       "  {'Title': 'Batman v Superman: Dawn of Justice',\n",
       "   'Year': '2016',\n",
       "   'imdbID': 'tt2975590',\n",
       "   'Type': 'movie',\n",
       "   'Poster': 'https://m.media-amazon.com/images/M/MV5BYThjYzcyYzItNTVjNy00NDk0LTgwMWQtYjMwNmNlNWJhMzMyXkEyXkFqcGdeQXVyMTQxNzMzNDI@._V1_SX300.jpg'},\n",
       "  {'Title': 'Batman',\n",
       "   'Year': '1989',\n",
       "   'imdbID': 'tt0096895',\n",
       "   'Type': 'movie',\n",
       "   'Poster': 'https://m.media-amazon.com/images/M/MV5BMTYwNjAyODIyMF5BMl5BanBnXkFtZTYwNDMwMDk2._V1_SX300.jpg'},\n",
       "  {'Title': 'The Batman',\n",
       "   'Year': '2022',\n",
       "   'imdbID': 'tt1877830',\n",
       "   'Type': 'movie',\n",
       "   'Poster': 'https://m.media-amazon.com/images/M/MV5BMDdmMTBiNTYtMDIzNi00NGVlLWIzMDYtZTk3MTQ3NGQxZGEwXkEyXkFqcGdeQXVyMzMwOTU5MDk@._V1_SX300.jpg'},\n",
       "  {'Title': 'Batman Returns',\n",
       "   'Year': '1992',\n",
       "   'imdbID': 'tt0103776',\n",
       "   'Type': 'movie',\n",
       "   'Poster': 'https://m.media-amazon.com/images/M/MV5BOGZmYzVkMmItM2NiOS00MDI3LWI4ZWQtMTg0YWZkODRkMmViXkEyXkFqcGdeQXVyODY0NzcxNw@@._V1_SX300.jpg'},\n",
       "  {'Title': 'Batman Forever',\n",
       "   'Year': '1995',\n",
       "   'imdbID': 'tt0112462',\n",
       "   'Type': 'movie',\n",
       "   'Poster': 'https://m.media-amazon.com/images/M/MV5BNDdjYmFiYWEtYzBhZS00YTZkLWFlODgtY2I5MDE0NzZmMDljXkEyXkFqcGdeQXVyMTMxODk2OTU@._V1_SX300.jpg'},\n",
       "  {'Title': 'Batman & Robin',\n",
       "   'Year': '1997',\n",
       "   'imdbID': 'tt0118688',\n",
       "   'Type': 'movie',\n",
       "   'Poster': 'https://m.media-amazon.com/images/M/MV5BMGQ5YTM1NmMtYmIxYy00N2VmLWJhZTYtN2EwYTY3MWFhOTczXkEyXkFqcGdeQXVyNTA2NTI0MTY@._V1_SX300.jpg'},\n",
       "  {'Title': 'The Lego Batman Movie',\n",
       "   'Year': '2016',\n",
       "   'imdbID': 'tt4116284',\n",
       "   'Type': 'movie',\n",
       "   'Poster': 'https://m.media-amazon.com/images/M/MV5BMTcyNTEyOTY0M15BMl5BanBnXkFtZTgwOTAyNzU3MDI@._V1_SX300.jpg'},\n",
       "  {'Title': 'Batman: The Animated Series',\n",
       "   'Year': '1992–1995',\n",
       "   'imdbID': 'tt0103359',\n",
       "   'Type': 'series',\n",
       "   'Poster': 'https://m.media-amazon.com/images/M/MV5BOTM3MTRkZjQtYjBkMy00YWE1LTkxOTQtNDQyNGY0YjYzNzAzXkEyXkFqcGdeQXVyOTgwMzk1MTA@._V1_SX300.jpg'},\n",
       "  {'Title': 'Batman: Under the Red Hood',\n",
       "   'Year': '2010',\n",
       "   'imdbID': 'tt1569923',\n",
       "   'Type': 'movie',\n",
       "   'Poster': 'https://m.media-amazon.com/images/M/MV5BNmY4ZDZjY2UtOWFiYy00MjhjLThmMjctOTQ2NjYxZGRjYmNlL2ltYWdlL2ltYWdlXkEyXkFqcGdeQXVyNTAyODkwOQ@@._V1_SX300.jpg'}],\n",
       " 'totalResults': '501',\n",
       " 'Response': 'True'}"
      ]
     },
     "execution_count": 4,
     "metadata": {},
     "output_type": "execute_result"
    }
   ],
   "source": [
    "record = json.loads(page.content)\n",
    "record"
   ]
  },
  {
   "cell_type": "code",
   "execution_count": 5,
   "metadata": {},
   "outputs": [],
   "source": [
    "#get movie stat and print it\n",
    "def get_movie_stat(url):\n",
    "    # use requests.get to submit a 'get' request\n",
    "    page = requests.get(url)\n",
    "\n",
    "    if page.status_code != requests.codes.ok :\n",
    "        print(\"Request was not successful, status code:\", page.status_code)\n",
    "        print(\"Hit enter to continue...\")\n",
    "        input()\n",
    "        exit()\n",
    "\n",
    "    record = json.loads(page.content)    \n",
    "    \n",
    "    print('')\n",
    "    print('Movie Stat:')\n",
    "    print(record['Title'],'('+record['Year']+')')\n",
    "    print('Rated:',record['Rated'])\n",
    "    print('Release Date:',record['Released'])\n",
    "    print('Rating:')\n",
    "    for r in record['Ratings']:\n",
    "        print('\\t{:<25s} {:<10s}'.format(r['Source'], r['Value']))\n",
    "        \n",
    "        \n",
    "#check user input for integer\n",
    "def check_user_input(input):\n",
    "    try:\n",
    "        # Convert it into integer\n",
    "        val = int(input)\n",
    "        imbdID = record['Search'][int(moviePick)-1]['imdbID']\n",
    "        return imbdID\n",
    "    except ValueError:\n",
    "        print(\"No.. input is not a number. It's a string\")"
   ]
  },
  {
   "cell_type": "code",
   "execution_count": 6,
   "metadata": {},
   "outputs": [
    {
     "name": "stdout",
     "output_type": "stream",
     "text": [
      "1. Batman Begins(2005)\n",
      "2. Batman v Superman: Dawn of Justice(2016)\n",
      "3. Batman(1989)\n",
      "4. The Batman(2022)\n",
      "5. Batman Returns(1992)\n",
      "6. Batman Forever(1995)\n",
      "7. Batman & Robin(1997)\n",
      "8. The Lego Batman Movie(2016)\n",
      "9. Batman: The Animated Series(1992–1995)\n",
      "10. Batman: Under the Red Hood(2010)\n",
      "Please select the number corresponding to the movie you want to look up3\n",
      "\n",
      "Movie Stat:\n",
      "Batman (1989)\n",
      "Rated: PG-13\n",
      "Release Date: 23 Jun 1989\n",
      "Rating:\n",
      "\tInternet Movie Database   7.5/10    \n",
      "\tRotten Tomatoes           72%       \n",
      "\tMetacritic                69/100    \n"
     ]
    }
   ],
   "source": [
    "searchCount = len(record['Search'])\n",
    "if (searchCount != 1):\n",
    "    counter = 1\n",
    "    for i in record['Search']:\n",
    "        title = i['Title']\n",
    "        year = i['Year']\n",
    "\n",
    "        print (str(counter)+'.',title+'('+year+')')\n",
    "        counter += 1\n",
    "      \n",
    "    #get user input\n",
    "    moviePick = input(\"Please select the number corresponding to the movie you want to look up\")\n",
    "    imbdID = check_user_input(moviePick)\n",
    "    \n",
    "    #specific movie stat url\n",
    "    url = 'http://www.omdbapi.com/?apikey=819a5bbb&i='+imbdID\n",
    "    \n",
    "    #get stats\n",
    "    get_movie_stat(url)\n",
    "    \n",
    "else:\n",
    "    #specific movie stat url\n",
    "    url = 'http://www.omdbapi.com/?apikey=819a5bbb&i='+record['Search'][0]['imdbID']\n",
    "    \n",
    "    #get stats\n",
    "    get_movie_stat(url)\n",
    "\n"
   ]
  },
  {
   "cell_type": "code",
   "execution_count": null,
   "metadata": {},
   "outputs": [],
   "source": [
    "\n",
    "\n",
    "\n"
   ]
  },
  {
   "cell_type": "code",
   "execution_count": null,
   "metadata": {},
   "outputs": [],
   "source": [
    "\n"
   ]
  },
  {
   "cell_type": "code",
   "execution_count": null,
   "metadata": {},
   "outputs": [],
   "source": []
  }
 ],
 "metadata": {
  "kernelspec": {
   "display_name": "Python 3",
   "language": "python",
   "name": "python3"
  },
  "language_info": {
   "codemirror_mode": {
    "name": "ipython",
    "version": 3
   },
   "file_extension": ".py",
   "mimetype": "text/x-python",
   "name": "python",
   "nbconvert_exporter": "python",
   "pygments_lexer": "ipython3",
   "version": "3.7.6"
  }
 },
 "nbformat": 4,
 "nbformat_minor": 4
}
