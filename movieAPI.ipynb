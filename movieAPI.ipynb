{
 "cells": [
  {
   "cell_type": "code",
   "execution_count": 1,
   "metadata": {},
   "outputs": [],
   "source": [
    "import requests\n",
    "import json"
   ]
  },
  {
   "cell_type": "code",
   "execution_count": 7,
   "metadata": {},
   "outputs": [
    {
     "name": "stdout",
     "output_type": "stream",
     "text": [
      "Enter movie name:schindler's list\n"
     ]
    }
   ],
   "source": [
    "movie = input(\"Enter movie name:\")"
   ]
  },
  {
   "cell_type": "code",
   "execution_count": 8,
   "metadata": {},
   "outputs": [
    {
     "name": "stdout",
     "output_type": "stream",
     "text": [
      "http://www.omdbapi.com/?apikey=819a5bbb&s=schindler's+list\n"
     ]
    }
   ],
   "source": [
    "movieNameList = movie.split()     #split user text input\n",
    "movieLen = len(movieNameList)     #get length of user text input\n",
    "\n",
    "count = 0\n",
    "url = 'http://www.omdbapi.com/?apikey=819a5bbb&s='\n",
    "\n",
    "#get url to search for movie\n",
    "while (count < movieLen):\n",
    "    if (count == 0):\n",
    "        url = url+movieNameList[count]\n",
    "    else:\n",
    "        url = url+'+'+movieNameList[count]\n",
    "    count = count + 1\n",
    "\n",
    "print(url)\n",
    "\n",
    "# use requests.get to submit a 'get' request\n",
    "page = requests.get(url)\n",
    "\n",
    "#exit if get request fails\n",
    "if page.status_code != requests.codes.ok :\n",
    "    print(\"Request was not successful, status code:\", page.status_code)\n",
    "    print(\"Hit enter to continue...\")\n",
    "    input()\n",
    "    exit()\n",
    "    "
   ]
  },
  {
   "cell_type": "code",
   "execution_count": 9,
   "metadata": {},
   "outputs": [
    {
     "data": {
      "text/plain": [
       "{'Search': [{'Title': \"Schindler's List\",\n",
       "   'Year': '1993',\n",
       "   'imdbID': 'tt0108052',\n",
       "   'Type': 'movie',\n",
       "   'Poster': 'https://m.media-amazon.com/images/M/MV5BNDE4OTMxMTctNmRhYy00NWE2LTg3YzItYTk3M2UwOTU5Njg4XkEyXkFqcGdeQXVyNjU0OTQ0OTY@._V1_SX300.jpg'},\n",
       "  {'Title': \"Schindler's List: 25 Years Later\",\n",
       "   'Year': '2018',\n",
       "   'imdbID': 'tt9558892',\n",
       "   'Type': 'movie',\n",
       "   'Poster': 'https://m.media-amazon.com/images/M/MV5BZDJhNzM3YWYtOTI3My00YjVmLWE5NjktZTQzNDkzMTNmZGQ1XkEyXkFqcGdeQXVyMjA3NzQyMA@@._V1_SX300.jpg'},\n",
       "  {'Title': \"I Was on Schindler's List\",\n",
       "   'Year': '1996',\n",
       "   'imdbID': 'tt0322702',\n",
       "   'Type': 'movie',\n",
       "   'Poster': 'N/A'},\n",
       "  {'Title': \"The Making of 'Schindler's List'\",\n",
       "   'Year': '1993',\n",
       "   'imdbID': 'tt2709758',\n",
       "   'Type': 'movie',\n",
       "   'Poster': 'N/A'},\n",
       "  {'Title': \"Schindler's Bucket List\",\n",
       "   'Year': '2013',\n",
       "   'imdbID': 'tt3070146',\n",
       "   'Type': 'movie',\n",
       "   'Poster': 'N/A'}],\n",
       " 'totalResults': '5',\n",
       " 'Response': 'True'}"
      ]
     },
     "execution_count": 9,
     "metadata": {},
     "output_type": "execute_result"
    }
   ],
   "source": [
    "record = json.loads(page.content)\n",
    "record"
   ]
  },
  {
   "cell_type": "code",
   "execution_count": 10,
   "metadata": {},
   "outputs": [],
   "source": [
    "#get movie stat and print it\n",
    "def get_movie_stat(url):\n",
    "    # use requests.get to submit a 'get' request\n",
    "    page = requests.get(url)\n",
    "\n",
    "    if page.status_code != requests.codes.ok :\n",
    "        print(\"Request was not successful, status code:\", page.status_code)\n",
    "        print(\"Hit enter to continue...\")\n",
    "        input()\n",
    "        exit()\n",
    "\n",
    "    record = json.loads(page.content)    \n",
    "    \n",
    "    print('')\n",
    "    print('Movie Stat:')\n",
    "    print(record['Title'],'('+record['Year']+')')\n",
    "    print('Rated:',record['Rated'])\n",
    "    print('Release Date:',record['Released'])\n",
    "    print('Rating:')\n",
    "    for r in record['Ratings']:\n",
    "        print('\\t{:<25s} {:<10s}'.format(r['Source'], r['Value']))\n",
    "        \n",
    "        \n",
    "#check user input for integer\n",
    "def check_user_input(input):\n",
    "    try:\n",
    "        # Convert it into integer\n",
    "        val = int(input)\n",
    "        imbdID = record['Search'][int(moviePick)-1]['imdbID']\n",
    "        return imbdID\n",
    "    except ValueError:\n",
    "        print(\"No.. input is not a number. It's a string\")"
   ]
  },
  {
   "cell_type": "code",
   "execution_count": 11,
   "metadata": {},
   "outputs": [
    {
     "name": "stdout",
     "output_type": "stream",
     "text": [
      "1. Schindler's List(1993)\n",
      "2. Schindler's List: 25 Years Later(2018)\n",
      "3. I Was on Schindler's List(1996)\n",
      "4. The Making of 'Schindler's List'(1993)\n",
      "5. Schindler's Bucket List(2013)\n",
      "Please select the number corresponding to the movie you want to look up1\n",
      "\n",
      "Movie Stat:\n",
      "Schindler's List (1993)\n",
      "Rated: R\n",
      "Release Date: 04 Feb 1994\n",
      "Rating:\n",
      "\tInternet Movie Database   8.9/10    \n",
      "\tRotten Tomatoes           98%       \n",
      "\tMetacritic                94/100    \n"
     ]
    }
   ],
   "source": [
    "searchCount = len(record['Search'])\n",
    "if (searchCount != 1):\n",
    "    counter = 1\n",
    "    for i in record['Search']:\n",
    "        title = i['Title']\n",
    "        year = i['Year']\n",
    "\n",
    "        print (str(counter)+'.',title+'('+year+')')\n",
    "        counter += 1\n",
    "      \n",
    "    #get user input\n",
    "    moviePick = input(\"Please select the number corresponding to the movie you want to look up\")\n",
    "    imbdID = check_user_input(moviePick)\n",
    "    \n",
    "    #specific movie stat url\n",
    "    url = 'http://www.omdbapi.com/?apikey=819a5bbb&i='+imbdID\n",
    "    \n",
    "    #get stats\n",
    "    get_movie_stat(url)\n",
    "    \n",
    "else:\n",
    "    #specific movie stat url\n",
    "    url = 'http://www.omdbapi.com/?apikey=819a5bbb&i='+record['Search'][0]['imdbID']\n",
    "    \n",
    "    #get stats\n",
    "    get_movie_stat(url)\n",
    "\n"
   ]
  },
  {
   "cell_type": "code",
   "execution_count": null,
   "metadata": {},
   "outputs": [],
   "source": [
    "\n",
    "\n",
    "\n"
   ]
  },
  {
   "cell_type": "code",
   "execution_count": null,
   "metadata": {},
   "outputs": [],
   "source": [
    "\n"
   ]
  },
  {
   "cell_type": "code",
   "execution_count": null,
   "metadata": {},
   "outputs": [],
   "source": []
  }
 ],
 "metadata": {
  "kernelspec": {
   "display_name": "Python 3",
   "language": "python",
   "name": "python3"
  },
  "language_info": {
   "codemirror_mode": {
    "name": "ipython",
    "version": 3
   },
   "file_extension": ".py",
   "mimetype": "text/x-python",
   "name": "python",
   "nbconvert_exporter": "python",
   "pygments_lexer": "ipython3",
   "version": "3.7.6"
  }
 },
 "nbformat": 4,
 "nbformat_minor": 4
}
