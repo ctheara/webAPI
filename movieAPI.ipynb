{
 "cells": [
  {
   "cell_type": "code",
   "execution_count": 15,
   "metadata": {},
   "outputs": [],
   "source": [
    "import requests\n",
    "import json"
   ]
  },
  {
   "cell_type": "code",
   "execution_count": 17,
   "metadata": {},
   "outputs": [
    {
     "name": "stdout",
     "output_type": "stream",
     "text": [
      "Enter movie name:spiderman\n"
     ]
    }
   ],
   "source": [
    "movie = input(\"Enter movie name:\")"
   ]
  },
  {
   "cell_type": "code",
   "execution_count": 18,
   "metadata": {},
   "outputs": [
    {
     "name": "stdout",
     "output_type": "stream",
     "text": [
      "http://www.omdbapi.com/?apikey=819a5bbb&s=spiderman\n"
     ]
    }
   ],
   "source": [
    "movieNameList = movie.split()     #split user text input\n",
    "movieLen = len(movieNameList)     #get length of user text input\n",
    "\n",
    "count = 0\n",
    "url = 'http://www.omdbapi.com/?apikey=819a5bbb&s='\n",
    "\n",
    "#get url to search for movie\n",
    "while (count < movieLen):\n",
    "    if (count == 0):\n",
    "        url = url+movieNameList[count]\n",
    "    else:\n",
    "        url = url+'+'+movieNameList[count]\n",
    "    count = count + 1\n",
    "\n",
    "print(url)\n",
    "\n",
    "# use requests.get to submit a 'get' request\n",
    "page = requests.get(url)\n",
    "\n",
    "#exit if get request fails\n",
    "if page.status_code != requests.codes.ok :\n",
    "    print(\"Request was not successful, status code:\", page.status_code)\n",
    "    print(\"Hit enter to continue...\")\n",
    "    input()\n",
    "    exit()\n",
    "    "
   ]
  },
  {
   "cell_type": "code",
   "execution_count": 19,
   "metadata": {},
   "outputs": [
    {
     "data": {
      "text/plain": [
       "{'Search': [{'Title': 'Italian Spiderman',\n",
       "   'Year': '2007',\n",
       "   'imdbID': 'tt2705436',\n",
       "   'Type': 'movie',\n",
       "   'Poster': 'https://m.media-amazon.com/images/M/MV5BYjFhN2RjZTctMzA2Ni00NzE2LWJmYjMtNDAyYTllOTkyMmY3XkEyXkFqcGdeQXVyNTA0OTU0OTQ@._V1_SX300.jpg'},\n",
       "  {'Title': 'Superman, Spiderman or Batman',\n",
       "   'Year': '2011',\n",
       "   'imdbID': 'tt2084949',\n",
       "   'Type': 'movie',\n",
       "   'Poster': 'https://m.media-amazon.com/images/M/MV5BMjQ4MzcxNDU3N15BMl5BanBnXkFtZTgwOTE1MzMxNzE@._V1_SX300.jpg'},\n",
       "  {'Title': 'Spiderman',\n",
       "   'Year': '1990',\n",
       "   'imdbID': 'tt0100669',\n",
       "   'Type': 'movie',\n",
       "   'Poster': 'N/A'},\n",
       "  {'Title': 'Spiderman',\n",
       "   'Year': '2010',\n",
       "   'imdbID': 'tt1785572',\n",
       "   'Type': 'movie',\n",
       "   'Poster': 'N/A'},\n",
       "  {'Title': 'Spiderman and Grandma',\n",
       "   'Year': '2009',\n",
       "   'imdbID': 'tt1433184',\n",
       "   'Type': 'movie',\n",
       "   'Poster': 'https://m.media-amazon.com/images/M/MV5BMjE3Mzg0MjAxMl5BMl5BanBnXkFtZTcwNjIyODg5Mg@@._V1_SX300.jpg'},\n",
       "  {'Title': 'Fighting, Flying and Driving: The Stunts of Spiderman 3',\n",
       "   'Year': '2007',\n",
       "   'imdbID': 'tt1132238',\n",
       "   'Type': 'movie',\n",
       "   'Poster': 'https://m.media-amazon.com/images/M/MV5BNTI3NDE1ZmEtMTRiMS00YTY4LTk0OGItNjY4YmI0MDM4OGM4XkEyXkFqcGdeQXVyODE2NDgwMzM@._V1_SX300.jpg'},\n",
       "  {'Title': 'The Amazing Spiderman T4 Premiere Special',\n",
       "   'Year': '2012',\n",
       "   'imdbID': 'tt2233044',\n",
       "   'Type': 'movie',\n",
       "   'Poster': 'N/A'},\n",
       "  {'Title': 'Spiderman in Cannes',\n",
       "   'Year': '2016',\n",
       "   'imdbID': 'tt5978586',\n",
       "   'Type': 'movie',\n",
       "   'Poster': 'https://m.media-amazon.com/images/M/MV5BZDlmMGQwYmItNTNmOS00OTNkLTkxNTYtNDM3ZWVlMWUyZDIzXkEyXkFqcGdeQXVyMTA5Mzk5Mw@@._V1_SX300.jpg'},\n",
       "  {'Title': 'Amazing Spiderman Syndrome',\n",
       "   'Year': '2012',\n",
       "   'imdbID': 'tt2586634',\n",
       "   'Type': 'movie',\n",
       "   'Poster': 'N/A'},\n",
       "  {'Title': \"Hollywood's Master Storytellers: Spiderman Live\",\n",
       "   'Year': '2006',\n",
       "   'imdbID': 'tt2158533',\n",
       "   'Type': 'movie',\n",
       "   'Poster': 'N/A'}],\n",
       " 'totalResults': '24',\n",
       " 'Response': 'True'}"
      ]
     },
     "execution_count": 19,
     "metadata": {},
     "output_type": "execute_result"
    }
   ],
   "source": [
    "record = json.loads(page.content)\n",
    "record"
   ]
  },
  {
   "cell_type": "code",
   "execution_count": 20,
   "metadata": {},
   "outputs": [],
   "source": [
    "#get movie stat and print it\n",
    "def get_movie_stat(url):\n",
    "    # use requests.get to submit a 'get' request\n",
    "    page = requests.get(url)\n",
    "\n",
    "    if page.status_code != requests.codes.ok :\n",
    "        print(\"Request was not successful, status code:\", page.status_code)\n",
    "        print(\"Hit enter to continue...\")\n",
    "        input()\n",
    "        exit()\n",
    "\n",
    "    record = json.loads(page.content)    \n",
    "    \n",
    "    print('')\n",
    "    print('Movie Stat:')\n",
    "    print(record['Title'],'('+record['Year']+')')\n",
    "    print('Rated:',record['Rated'])\n",
    "    print('Release Date:',record['Released'])\n",
    "    print('Rating:')\n",
    "    for r in record['Ratings']:\n",
    "        print('\\t{:<25s} {:<10s}'.format(r['Source'], r['Value']))\n",
    "        \n",
    "        \n",
    "#check user input for integer\n",
    "def check_user_input(input):\n",
    "    try:\n",
    "        # Convert it into integer\n",
    "        val = int(input)\n",
    "        imbdID = record['Search'][int(moviePick)]['imdbID']\n",
    "        return imbdID\n",
    "    except ValueError:\n",
    "        print(\"No.. input is not a number. It's a string\")"
   ]
  },
  {
   "cell_type": "code",
   "execution_count": null,
   "metadata": {},
   "outputs": [
    {
     "name": "stdout",
     "output_type": "stream",
     "text": [
      "1. Italian Spiderman(2007)\n",
      "2. Superman, Spiderman or Batman(2011)\n",
      "3. Spiderman(1990)\n",
      "4. Spiderman(2010)\n",
      "5. Spiderman and Grandma(2009)\n",
      "6. Fighting, Flying and Driving: The Stunts of Spiderman 3(2007)\n",
      "7. The Amazing Spiderman T4 Premiere Special(2012)\n",
      "8. Spiderman in Cannes(2016)\n",
      "9. Amazing Spiderman Syndrome(2012)\n",
      "10. Hollywood's Master Storytellers: Spiderman Live(2006)\n"
     ]
    }
   ],
   "source": [
    "searchCount = len(record['Search'])\n",
    "if (searchCount != 1):\n",
    "    counter = 1\n",
    "    for i in record['Search']:\n",
    "        title = i['Title']\n",
    "        year = i['Year']\n",
    "\n",
    "        print (str(counter)+'.',title+'('+year+')')\n",
    "        counter += 1\n",
    "      \n",
    "    #get user input\n",
    "    moviePick = input(\"Please select the number corresponding to the movie you want to look up\")\n",
    "    imbdID = check_user_input(moviePick)\n",
    "    \n",
    "    #specific movie stat url\n",
    "    url = 'http://www.omdbapi.com/?apikey=819a5bbb&i='+imbdID\n",
    "    \n",
    "    #get stats\n",
    "    get_movie_stat(url)\n",
    "    \n",
    "else:\n",
    "    #specific movie stat url\n",
    "    url = 'http://www.omdbapi.com/?apikey=819a5bbb&i='+record['Search'][0]['imdbID']\n",
    "    \n",
    "    #get stats\n",
    "    get_movie_stat(url)\n",
    "\n"
   ]
  },
  {
   "cell_type": "code",
   "execution_count": null,
   "metadata": {},
   "outputs": [],
   "source": [
    "\n",
    "\n",
    "\n"
   ]
  },
  {
   "cell_type": "code",
   "execution_count": null,
   "metadata": {},
   "outputs": [],
   "source": [
    "\n"
   ]
  },
  {
   "cell_type": "code",
   "execution_count": null,
   "metadata": {},
   "outputs": [],
   "source": []
  }
 ],
 "metadata": {
  "kernelspec": {
   "display_name": "Python 3",
   "language": "python",
   "name": "python3"
  },
  "language_info": {
   "codemirror_mode": {
    "name": "ipython",
    "version": 3
   },
   "file_extension": ".py",
   "mimetype": "text/x-python",
   "name": "python",
   "nbconvert_exporter": "python",
   "pygments_lexer": "ipython3",
   "version": "3.7.6"
  }
 },
 "nbformat": 4,
 "nbformat_minor": 4
}
